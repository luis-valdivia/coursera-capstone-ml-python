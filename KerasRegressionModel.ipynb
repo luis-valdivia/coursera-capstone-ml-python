{
 "cells": [
  {
   "cell_type": "markdown",
   "id": "e11ad28d-a95a-4669-9f90-b75381bfaee5",
   "metadata": {},
   "source": [
    "<h2>Regression Models with Keras</h2>\n",
    "    \n",
    "Last edited 10/27/2021 by Luis E. Valdivia.\n",
    "\n",
    "<h3>Part A</h3> \n"
   ]
  },
  {
   "cell_type": "markdown",
   "id": "407ac26b-84ab-45fa-b4dd-80a296ac356b",
   "metadata": {},
   "source": [
    "Let's start by importing the <em>pandas</em> and the Numpy libraries."
   ]
  },
  {
   "cell_type": "code",
   "execution_count": 2,
   "id": "ac423a65-033f-4a3d-aba8-2b7665babce6",
   "metadata": {},
   "outputs": [],
   "source": [
    "import pandas as pd\n",
    "import numpy as np"
   ]
  },
  {
   "cell_type": "markdown",
   "id": "abc3b0c2-8e3f-47ca-96a0-6708b2a51377",
   "metadata": {},
   "source": [
    "Let's download the data and read it into a <em>pandas</em> dataframe.\n"
   ]
  },
  {
   "cell_type": "code",
   "execution_count": 3,
   "id": "8ab75474-dd51-4d27-ba08-35e3a6d3a9a1",
   "metadata": {},
   "outputs": [
    {
     "data": {
      "text/html": [
       "<div>\n",
       "<style scoped>\n",
       "    .dataframe tbody tr th:only-of-type {\n",
       "        vertical-align: middle;\n",
       "    }\n",
       "\n",
       "    .dataframe tbody tr th {\n",
       "        vertical-align: top;\n",
       "    }\n",
       "\n",
       "    .dataframe thead th {\n",
       "        text-align: right;\n",
       "    }\n",
       "</style>\n",
       "<table border=\"1\" class=\"dataframe\">\n",
       "  <thead>\n",
       "    <tr style=\"text-align: right;\">\n",
       "      <th></th>\n",
       "      <th>Cement</th>\n",
       "      <th>Blast Furnace Slag</th>\n",
       "      <th>Fly Ash</th>\n",
       "      <th>Water</th>\n",
       "      <th>Superplasticizer</th>\n",
       "      <th>Coarse Aggregate</th>\n",
       "      <th>Fine Aggregate</th>\n",
       "      <th>Age</th>\n",
       "      <th>Strength</th>\n",
       "    </tr>\n",
       "  </thead>\n",
       "  <tbody>\n",
       "    <tr>\n",
       "      <th>0</th>\n",
       "      <td>540.0</td>\n",
       "      <td>0.0</td>\n",
       "      <td>0.0</td>\n",
       "      <td>162.0</td>\n",
       "      <td>2.5</td>\n",
       "      <td>1040.0</td>\n",
       "      <td>676.0</td>\n",
       "      <td>28</td>\n",
       "      <td>79.99</td>\n",
       "    </tr>\n",
       "    <tr>\n",
       "      <th>1</th>\n",
       "      <td>540.0</td>\n",
       "      <td>0.0</td>\n",
       "      <td>0.0</td>\n",
       "      <td>162.0</td>\n",
       "      <td>2.5</td>\n",
       "      <td>1055.0</td>\n",
       "      <td>676.0</td>\n",
       "      <td>28</td>\n",
       "      <td>61.89</td>\n",
       "    </tr>\n",
       "    <tr>\n",
       "      <th>2</th>\n",
       "      <td>332.5</td>\n",
       "      <td>142.5</td>\n",
       "      <td>0.0</td>\n",
       "      <td>228.0</td>\n",
       "      <td>0.0</td>\n",
       "      <td>932.0</td>\n",
       "      <td>594.0</td>\n",
       "      <td>270</td>\n",
       "      <td>40.27</td>\n",
       "    </tr>\n",
       "    <tr>\n",
       "      <th>3</th>\n",
       "      <td>332.5</td>\n",
       "      <td>142.5</td>\n",
       "      <td>0.0</td>\n",
       "      <td>228.0</td>\n",
       "      <td>0.0</td>\n",
       "      <td>932.0</td>\n",
       "      <td>594.0</td>\n",
       "      <td>365</td>\n",
       "      <td>41.05</td>\n",
       "    </tr>\n",
       "    <tr>\n",
       "      <th>4</th>\n",
       "      <td>198.6</td>\n",
       "      <td>132.4</td>\n",
       "      <td>0.0</td>\n",
       "      <td>192.0</td>\n",
       "      <td>0.0</td>\n",
       "      <td>978.4</td>\n",
       "      <td>825.5</td>\n",
       "      <td>360</td>\n",
       "      <td>44.30</td>\n",
       "    </tr>\n",
       "  </tbody>\n",
       "</table>\n",
       "</div>"
      ],
      "text/plain": [
       "   Cement  Blast Furnace Slag  Fly Ash  Water  Superplasticizer  \\\n",
       "0   540.0                 0.0      0.0  162.0               2.5   \n",
       "1   540.0                 0.0      0.0  162.0               2.5   \n",
       "2   332.5               142.5      0.0  228.0               0.0   \n",
       "3   332.5               142.5      0.0  228.0               0.0   \n",
       "4   198.6               132.4      0.0  192.0               0.0   \n",
       "\n",
       "   Coarse Aggregate  Fine Aggregate  Age  Strength  \n",
       "0            1040.0           676.0   28     79.99  \n",
       "1            1055.0           676.0   28     61.89  \n",
       "2             932.0           594.0  270     40.27  \n",
       "3             932.0           594.0  365     41.05  \n",
       "4             978.4           825.5  360     44.30  "
      ]
     },
     "execution_count": 3,
     "metadata": {},
     "output_type": "execute_result"
    }
   ],
   "source": [
    "concrete_data = pd.read_csv('https://s3-api.us-geo.objectstorage.softlayer.net/cf-courses-data/CognitiveClass/DL0101EN/labs/data/concrete_data.csv')\n",
    "concrete_data.head()"
   ]
  },
  {
   "cell_type": "markdown",
   "id": "2f77a5cd-6933-4bcb-ad42-f1b723adb99a",
   "metadata": {},
   "source": [
    "Recall that the data is already clean and ready to use. Let's split data into predictors and target."
   ]
  },
  {
   "cell_type": "code",
   "execution_count": 4,
   "id": "a22db827-403a-4379-bd14-69b742ab1b03",
   "metadata": {},
   "outputs": [],
   "source": [
    "concrete_data_columns = concrete_data.columns\n",
    "\n",
    "predictors = concrete_data[concrete_data_columns[concrete_data_columns != 'Strength']] # all columns except Strength\n",
    "target = concrete_data['Strength'] # Strength column"
   ]
  },
  {
   "cell_type": "markdown",
   "id": "4c9def6b-8f93-4a40-a486-7921e7550e05",
   "metadata": {},
   "source": [
    "Lastly, we normalize the data by substracting the mean and dividing by the standard deviation."
   ]
  },
  {
   "cell_type": "code",
   "execution_count": 5,
   "id": "05c6b2f1-0308-4945-b84e-80fd514fb56a",
   "metadata": {},
   "outputs": [
    {
     "data": {
      "text/html": [
       "<div>\n",
       "<style scoped>\n",
       "    .dataframe tbody tr th:only-of-type {\n",
       "        vertical-align: middle;\n",
       "    }\n",
       "\n",
       "    .dataframe tbody tr th {\n",
       "        vertical-align: top;\n",
       "    }\n",
       "\n",
       "    .dataframe thead th {\n",
       "        text-align: right;\n",
       "    }\n",
       "</style>\n",
       "<table border=\"1\" class=\"dataframe\">\n",
       "  <thead>\n",
       "    <tr style=\"text-align: right;\">\n",
       "      <th></th>\n",
       "      <th>Cement</th>\n",
       "      <th>Blast Furnace Slag</th>\n",
       "      <th>Fly Ash</th>\n",
       "      <th>Water</th>\n",
       "      <th>Superplasticizer</th>\n",
       "      <th>Coarse Aggregate</th>\n",
       "      <th>Fine Aggregate</th>\n",
       "      <th>Age</th>\n",
       "    </tr>\n",
       "  </thead>\n",
       "  <tbody>\n",
       "    <tr>\n",
       "      <th>0</th>\n",
       "      <td>2.476712</td>\n",
       "      <td>-0.856472</td>\n",
       "      <td>-0.846733</td>\n",
       "      <td>-0.916319</td>\n",
       "      <td>-0.620147</td>\n",
       "      <td>0.862735</td>\n",
       "      <td>-1.217079</td>\n",
       "      <td>-0.279597</td>\n",
       "    </tr>\n",
       "    <tr>\n",
       "      <th>1</th>\n",
       "      <td>2.476712</td>\n",
       "      <td>-0.856472</td>\n",
       "      <td>-0.846733</td>\n",
       "      <td>-0.916319</td>\n",
       "      <td>-0.620147</td>\n",
       "      <td>1.055651</td>\n",
       "      <td>-1.217079</td>\n",
       "      <td>-0.279597</td>\n",
       "    </tr>\n",
       "    <tr>\n",
       "      <th>2</th>\n",
       "      <td>0.491187</td>\n",
       "      <td>0.795140</td>\n",
       "      <td>-0.846733</td>\n",
       "      <td>2.174405</td>\n",
       "      <td>-1.038638</td>\n",
       "      <td>-0.526262</td>\n",
       "      <td>-2.239829</td>\n",
       "      <td>3.551340</td>\n",
       "    </tr>\n",
       "    <tr>\n",
       "      <th>3</th>\n",
       "      <td>0.491187</td>\n",
       "      <td>0.795140</td>\n",
       "      <td>-0.846733</td>\n",
       "      <td>2.174405</td>\n",
       "      <td>-1.038638</td>\n",
       "      <td>-0.526262</td>\n",
       "      <td>-2.239829</td>\n",
       "      <td>5.055221</td>\n",
       "    </tr>\n",
       "    <tr>\n",
       "      <th>4</th>\n",
       "      <td>-0.790075</td>\n",
       "      <td>0.678079</td>\n",
       "      <td>-0.846733</td>\n",
       "      <td>0.488555</td>\n",
       "      <td>-1.038638</td>\n",
       "      <td>0.070492</td>\n",
       "      <td>0.647569</td>\n",
       "      <td>4.976069</td>\n",
       "    </tr>\n",
       "  </tbody>\n",
       "</table>\n",
       "</div>"
      ],
      "text/plain": [
       "     Cement  Blast Furnace Slag   Fly Ash     Water  Superplasticizer  \\\n",
       "0  2.476712           -0.856472 -0.846733 -0.916319         -0.620147   \n",
       "1  2.476712           -0.856472 -0.846733 -0.916319         -0.620147   \n",
       "2  0.491187            0.795140 -0.846733  2.174405         -1.038638   \n",
       "3  0.491187            0.795140 -0.846733  2.174405         -1.038638   \n",
       "4 -0.790075            0.678079 -0.846733  0.488555         -1.038638   \n",
       "\n",
       "   Coarse Aggregate  Fine Aggregate       Age  \n",
       "0          0.862735       -1.217079 -0.279597  \n",
       "1          1.055651       -1.217079 -0.279597  \n",
       "2         -0.526262       -2.239829  3.551340  \n",
       "3         -0.526262       -2.239829  5.055221  \n",
       "4          0.070492        0.647569  4.976069  "
      ]
     },
     "execution_count": 5,
     "metadata": {},
     "output_type": "execute_result"
    }
   ],
   "source": [
    "predictors_norm = (predictors - predictors.mean()) / predictors.std()\n",
    "predictors_norm.head()"
   ]
  },
  {
   "cell_type": "markdown",
   "id": "0c6e876f-91ec-487e-bbe3-6a7efe9ea75e",
   "metadata": {},
   "source": [
    "Let's save the number of predictors to _n_cols_ since we will need this number when building our network."
   ]
  },
  {
   "cell_type": "code",
   "execution_count": 6,
   "id": "3e4713f5-5c20-4b68-a0a3-2e24ee87cff0",
   "metadata": {},
   "outputs": [],
   "source": [
    "n_cols = predictors_norm.shape[1] # number of predictors"
   ]
  },
  {
   "cell_type": "markdown",
   "id": "d03c0cd0-b3ab-4258-9e28-6b83e87d9d2c",
   "metadata": {},
   "source": [
    "Now we import Keras."
   ]
  },
  {
   "cell_type": "code",
   "execution_count": 7,
   "id": "187f0190-bf5a-449f-85ab-4e5f54a2de66",
   "metadata": {},
   "outputs": [
    {
     "name": "stderr",
     "output_type": "stream",
     "text": [
      "Using TensorFlow backend.\n",
      "/home/jupyterlab/conda/envs/python/lib/python3.7/site-packages/tensorflow/python/framework/dtypes.py:516: FutureWarning: Passing (type, 1) or '1type' as a synonym of type is deprecated; in a future version of numpy, it will be understood as (type, (1,)) / '(1,)type'.\n",
      "  _np_qint8 = np.dtype([(\"qint8\", np.int8, 1)])\n",
      "/home/jupyterlab/conda/envs/python/lib/python3.7/site-packages/tensorflow/python/framework/dtypes.py:517: FutureWarning: Passing (type, 1) or '1type' as a synonym of type is deprecated; in a future version of numpy, it will be understood as (type, (1,)) / '(1,)type'.\n",
      "  _np_quint8 = np.dtype([(\"quint8\", np.uint8, 1)])\n",
      "/home/jupyterlab/conda/envs/python/lib/python3.7/site-packages/tensorflow/python/framework/dtypes.py:518: FutureWarning: Passing (type, 1) or '1type' as a synonym of type is deprecated; in a future version of numpy, it will be understood as (type, (1,)) / '(1,)type'.\n",
      "  _np_qint16 = np.dtype([(\"qint16\", np.int16, 1)])\n",
      "/home/jupyterlab/conda/envs/python/lib/python3.7/site-packages/tensorflow/python/framework/dtypes.py:519: FutureWarning: Passing (type, 1) or '1type' as a synonym of type is deprecated; in a future version of numpy, it will be understood as (type, (1,)) / '(1,)type'.\n",
      "  _np_quint16 = np.dtype([(\"quint16\", np.uint16, 1)])\n",
      "/home/jupyterlab/conda/envs/python/lib/python3.7/site-packages/tensorflow/python/framework/dtypes.py:520: FutureWarning: Passing (type, 1) or '1type' as a synonym of type is deprecated; in a future version of numpy, it will be understood as (type, (1,)) / '(1,)type'.\n",
      "  _np_qint32 = np.dtype([(\"qint32\", np.int32, 1)])\n",
      "/home/jupyterlab/conda/envs/python/lib/python3.7/site-packages/tensorflow/python/framework/dtypes.py:525: FutureWarning: Passing (type, 1) or '1type' as a synonym of type is deprecated; in a future version of numpy, it will be understood as (type, (1,)) / '(1,)type'.\n",
      "  np_resource = np.dtype([(\"resource\", np.ubyte, 1)])\n",
      "/home/jupyterlab/conda/envs/python/lib/python3.7/site-packages/tensorboard/compat/tensorflow_stub/dtypes.py:541: FutureWarning: Passing (type, 1) or '1type' as a synonym of type is deprecated; in a future version of numpy, it will be understood as (type, (1,)) / '(1,)type'.\n",
      "  _np_qint8 = np.dtype([(\"qint8\", np.int8, 1)])\n",
      "/home/jupyterlab/conda/envs/python/lib/python3.7/site-packages/tensorboard/compat/tensorflow_stub/dtypes.py:542: FutureWarning: Passing (type, 1) or '1type' as a synonym of type is deprecated; in a future version of numpy, it will be understood as (type, (1,)) / '(1,)type'.\n",
      "  _np_quint8 = np.dtype([(\"quint8\", np.uint8, 1)])\n",
      "/home/jupyterlab/conda/envs/python/lib/python3.7/site-packages/tensorboard/compat/tensorflow_stub/dtypes.py:543: FutureWarning: Passing (type, 1) or '1type' as a synonym of type is deprecated; in a future version of numpy, it will be understood as (type, (1,)) / '(1,)type'.\n",
      "  _np_qint16 = np.dtype([(\"qint16\", np.int16, 1)])\n",
      "/home/jupyterlab/conda/envs/python/lib/python3.7/site-packages/tensorboard/compat/tensorflow_stub/dtypes.py:544: FutureWarning: Passing (type, 1) or '1type' as a synonym of type is deprecated; in a future version of numpy, it will be understood as (type, (1,)) / '(1,)type'.\n",
      "  _np_quint16 = np.dtype([(\"quint16\", np.uint16, 1)])\n",
      "/home/jupyterlab/conda/envs/python/lib/python3.7/site-packages/tensorboard/compat/tensorflow_stub/dtypes.py:545: FutureWarning: Passing (type, 1) or '1type' as a synonym of type is deprecated; in a future version of numpy, it will be understood as (type, (1,)) / '(1,)type'.\n",
      "  _np_qint32 = np.dtype([(\"qint32\", np.int32, 1)])\n",
      "/home/jupyterlab/conda/envs/python/lib/python3.7/site-packages/tensorboard/compat/tensorflow_stub/dtypes.py:550: FutureWarning: Passing (type, 1) or '1type' as a synonym of type is deprecated; in a future version of numpy, it will be understood as (type, (1,)) / '(1,)type'.\n",
      "  np_resource = np.dtype([(\"resource\", np.ubyte, 1)])\n"
     ]
    }
   ],
   "source": [
    "import keras"
   ]
  },
  {
   "cell_type": "code",
   "execution_count": 8,
   "id": "31a12d42-f0fd-4dfe-9a08-aa94d5a104cb",
   "metadata": {},
   "outputs": [],
   "source": [
    "from keras.models import Sequential\n",
    "from keras.layers import Dense"
   ]
  },
  {
   "cell_type": "markdown",
   "id": "01bd7a05-a5cc-45ce-b4ed-1eea9c22a62c",
   "metadata": {},
   "source": [
    "Let's define a function that defines our regression model for us so that we can conveniently call it to create our model."
   ]
  },
  {
   "cell_type": "code",
   "execution_count": 9,
   "id": "d08950d2-2902-4527-a33b-9be670e02848",
   "metadata": {},
   "outputs": [],
   "source": [
    "# define regression model\n",
    "def regression_model():\n",
    "    # create model\n",
    "    model = Sequential()\n",
    "    model.add(Dense(10, activation='relu', input_shape=(n_cols,)))\n",
    "    model.add(Dense(1))\n",
    "    \n",
    "    # compile model\n",
    "    model.compile(optimizer='adam', loss='mean_squared_error')\n",
    "    return model"
   ]
  },
  {
   "cell_type": "markdown",
   "id": "d7fe2bf3-6a42-4212-b75e-0794d5f63f82",
   "metadata": {},
   "source": [
    "The above function creates a model that has one hidden layers of 10 hidden units."
   ]
  },
  {
   "cell_type": "markdown",
   "id": "5902d207-d77a-4c55-8520-f5d34a6de2cd",
   "metadata": {},
   "source": [
    "Let's call the function now to create our model."
   ]
  },
  {
   "cell_type": "code",
   "execution_count": 10,
   "id": "9bbfc755-4dde-42ee-9de3-405856144edd",
   "metadata": {},
   "outputs": [
    {
     "name": "stdout",
     "output_type": "stream",
     "text": [
      "WARNING:tensorflow:From /home/jupyterlab/conda/envs/python/lib/python3.7/site-packages/keras/backend/tensorflow_backend.py:68: The name tf.get_default_graph is deprecated. Please use tf.compat.v1.get_default_graph instead.\n",
      "\n",
      "WARNING:tensorflow:From /home/jupyterlab/conda/envs/python/lib/python3.7/site-packages/keras/backend/tensorflow_backend.py:508: The name tf.placeholder is deprecated. Please use tf.compat.v1.placeholder instead.\n",
      "\n",
      "WARNING:tensorflow:From /home/jupyterlab/conda/envs/python/lib/python3.7/site-packages/keras/backend/tensorflow_backend.py:3837: The name tf.random_uniform is deprecated. Please use tf.random.uniform instead.\n",
      "\n",
      "WARNING:tensorflow:From /home/jupyterlab/conda/envs/python/lib/python3.7/site-packages/keras/optimizers.py:757: The name tf.train.Optimizer is deprecated. Please use tf.compat.v1.train.Optimizer instead.\n",
      "\n"
     ]
    }
   ],
   "source": [
    "# build the model\n",
    "model = regression_model()"
   ]
  },
  {
   "cell_type": "markdown",
   "id": "bc8e96f4-e9fe-4562-a6cf-24e870e7673d",
   "metadata": {},
   "source": [
    "Next, we will train and test the model at the same time using the fit method. We will leave out 30% of the data for validation and we will train the model for 50 epochs."
   ]
  },
  {
   "cell_type": "code",
   "execution_count": 11,
   "id": "e082cce4-3e74-47aa-b419-4834f47ad601",
   "metadata": {},
   "outputs": [
    {
     "name": "stdout",
     "output_type": "stream",
     "text": [
      "WARNING:tensorflow:From /home/jupyterlab/conda/envs/python/lib/python3.7/site-packages/keras/backend/tensorflow_backend.py:977: The name tf.assign_add is deprecated. Please use tf.compat.v1.assign_add instead.\n",
      "\n",
      "WARNING:tensorflow:From /home/jupyterlab/conda/envs/python/lib/python3.7/site-packages/keras/backend/tensorflow_backend.py:964: The name tf.assign is deprecated. Please use tf.compat.v1.assign instead.\n",
      "\n",
      "Train on 721 samples, validate on 309 samples\n",
      "Epoch 1/50\n"
     ]
    },
    {
     "name": "stderr",
     "output_type": "stream",
     "text": [
      "2021-10-27 23:39:57.595347: I tensorflow/core/platform/cpu_feature_guard.cc:142] Your CPU supports instructions that this TensorFlow binary was not compiled to use: SSE4.1 SSE4.2 AVX AVX2 AVX512F FMA\n",
      "2021-10-27 23:39:57.603244: I tensorflow/core/platform/profile_utils/cpu_utils.cc:94] CPU Frequency: 2593900000 Hz\n",
      "2021-10-27 23:39:57.611710: I tensorflow/compiler/xla/service/service.cc:168] XLA service 0x55ab012afe00 executing computations on platform Host. Devices:\n",
      "2021-10-27 23:39:57.611769: I tensorflow/compiler/xla/service/service.cc:175]   StreamExecutor device (0): <undefined>, <undefined>\n",
      "2021-10-27 23:39:57.693705: W tensorflow/compiler/jit/mark_for_compilation_pass.cc:1412] (One-time warning): Not using XLA:CPU for cluster because envvar TF_XLA_FLAGS=--tf_xla_cpu_global_jit was not set.  If you want XLA:CPU, either set that envvar, or use experimental_jit_scope to enable XLA:CPU.  To confirm that XLA is active, pass --vmodule=xla_compilation_cache=1 (as a proper command-line flag, not via TF_XLA_FLAGS) or set the envvar XLA_FLAGS=--xla_hlo_profile.\n"
     ]
    },
    {
     "name": "stdout",
     "output_type": "stream",
     "text": [
      " - 0s - loss: 21197.7712 - val_loss: 13824.0857\n",
      "Epoch 2/50\n",
      " - 0s - loss: 12210.4318 - val_loss: 7093.3743\n",
      "Epoch 3/50\n",
      " - 0s - loss: 6120.9966 - val_loss: 2662.7380\n",
      "Epoch 4/50\n",
      " - 0s - loss: 2914.5830 - val_loss: 1268.8450\n",
      "Epoch 5/50\n",
      " - 0s - loss: 2101.0688 - val_loss: 1105.7938\n",
      "Epoch 6/50\n",
      " - 0s - loss: 1780.4362 - val_loss: 954.3121\n",
      "Epoch 7/50\n",
      " - 0s - loss: 1535.8064 - val_loss: 846.0669\n",
      "Epoch 8/50\n",
      " - 0s - loss: 1317.1399 - val_loss: 743.2846\n",
      "Epoch 9/50\n",
      " - 0s - loss: 1095.0711 - val_loss: 631.0525\n",
      "Epoch 10/50\n",
      " - 0s - loss: 891.2807 - val_loss: 533.6863\n",
      "Epoch 11/50\n",
      " - 0s - loss: 715.3418 - val_loss: 480.5642\n",
      "Epoch 12/50\n",
      " - 0s - loss: 568.2641 - val_loss: 457.6747\n",
      "Epoch 13/50\n",
      " - 0s - loss: 487.0279 - val_loss: 442.7003\n",
      "Epoch 14/50\n",
      " - 0s - loss: 451.0136 - val_loss: 432.8350\n",
      "Epoch 15/50\n",
      " - 0s - loss: 433.0126 - val_loss: 418.4749\n",
      "Epoch 16/50\n",
      " - 0s - loss: 417.3392 - val_loss: 412.8043\n",
      "Epoch 17/50\n",
      " - 0s - loss: 408.0978 - val_loss: 406.3547\n",
      "Epoch 18/50\n",
      " - 0s - loss: 400.7905 - val_loss: 396.6566\n",
      "Epoch 19/50\n",
      " - 0s - loss: 394.8424 - val_loss: 394.2422\n",
      "Epoch 20/50\n",
      " - 0s - loss: 388.6833 - val_loss: 381.8465\n",
      "Epoch 21/50\n",
      " - 0s - loss: 383.6336 - val_loss: 379.2761\n",
      "Epoch 22/50\n",
      " - 0s - loss: 376.9237 - val_loss: 372.0870\n",
      "Epoch 23/50\n",
      " - 0s - loss: 371.3561 - val_loss: 370.3558\n",
      "Epoch 24/50\n",
      " - 0s - loss: 366.1236 - val_loss: 358.6026\n",
      "Epoch 25/50\n",
      " - 0s - loss: 360.1942 - val_loss: 358.2940\n",
      "Epoch 26/50\n",
      " - 0s - loss: 355.0996 - val_loss: 349.1653\n",
      "Epoch 27/50\n",
      " - 0s - loss: 349.5552 - val_loss: 343.9277\n",
      "Epoch 28/50\n",
      " - 0s - loss: 344.6887 - val_loss: 339.4834\n",
      "Epoch 29/50\n",
      " - 0s - loss: 339.6753 - val_loss: 334.4094\n",
      "Epoch 30/50\n",
      " - 0s - loss: 333.9092 - val_loss: 329.5375\n",
      "Epoch 31/50\n",
      " - 0s - loss: 328.5049 - val_loss: 320.8370\n",
      "Epoch 32/50\n",
      " - 0s - loss: 322.8169 - val_loss: 318.7623\n",
      "Epoch 33/50\n",
      " - 0s - loss: 316.3833 - val_loss: 311.1101\n",
      "Epoch 34/50\n",
      " - 0s - loss: 311.3896 - val_loss: 302.9617\n",
      "Epoch 35/50\n",
      " - 0s - loss: 306.2087 - val_loss: 301.1820\n",
      "Epoch 36/50\n",
      " - 0s - loss: 300.3674 - val_loss: 293.9317\n",
      "Epoch 37/50\n",
      " - 0s - loss: 295.0430 - val_loss: 286.9317\n",
      "Epoch 38/50\n",
      " - 0s - loss: 289.9788 - val_loss: 282.3988\n",
      "Epoch 39/50\n",
      " - 0s - loss: 284.5931 - val_loss: 271.4427\n",
      "Epoch 40/50\n",
      " - 0s - loss: 280.3856 - val_loss: 265.6105\n",
      "Epoch 41/50\n",
      " - 0s - loss: 276.7212 - val_loss: 261.2391\n",
      "Epoch 42/50\n",
      " - 0s - loss: 273.1800 - val_loss: 252.9158\n",
      "Epoch 43/50\n",
      " - 0s - loss: 269.9329 - val_loss: 242.8014\n",
      "Epoch 44/50\n",
      " - 0s - loss: 266.7787 - val_loss: 236.2150\n",
      "Epoch 45/50\n",
      " - 0s - loss: 263.6320 - val_loss: 230.4874\n",
      "Epoch 46/50\n",
      " - 0s - loss: 260.0190 - val_loss: 226.3433\n",
      "Epoch 47/50\n",
      " - 0s - loss: 257.2234 - val_loss: 218.1039\n",
      "Epoch 48/50\n",
      " - 0s - loss: 254.0849 - val_loss: 211.3183\n",
      "Epoch 49/50\n",
      " - 0s - loss: 251.3930 - val_loss: 206.0535\n",
      "Epoch 50/50\n",
      " - 0s - loss: 249.3441 - val_loss: 201.5906\n"
     ]
    }
   ],
   "source": [
    "# fit the model\n",
    "results = model.fit(predictors, target, validation_split=0.3, epochs=50, verbose=2)"
   ]
  },
  {
   "cell_type": "markdown",
   "id": "7858cd8d-f219-49d3-9f4a-39a2b43f7a68",
   "metadata": {},
   "source": [
    "We want to do this 50 times and record the mean square error, so we will make an array of size 50 to keep track of the errors and train/test the model with verbose set to 0."
   ]
  },
  {
   "cell_type": "code",
   "execution_count": 12,
   "id": "a2c325a6-b382-496b-9e27-b7c50f105f05",
   "metadata": {},
   "outputs": [
    {
     "name": "stdout",
     "output_type": "stream",
     "text": [
      "Run Number: 0\n",
      "Run Number: 1\n",
      "Run Number: 2\n",
      "Run Number: 3\n",
      "Run Number: 4\n",
      "Run Number: 5\n",
      "Run Number: 6\n",
      "Run Number: 7\n",
      "Run Number: 8\n",
      "Run Number: 9\n",
      "Run Number: 10\n",
      "Run Number: 11\n",
      "Run Number: 12\n",
      "Run Number: 13\n",
      "Run Number: 14\n",
      "Run Number: 15\n",
      "Run Number: 16\n",
      "Run Number: 17\n",
      "Run Number: 18\n",
      "Run Number: 19\n",
      "Run Number: 20\n",
      "Run Number: 21\n",
      "Run Number: 22\n",
      "Run Number: 23\n",
      "Run Number: 24\n",
      "Run Number: 25\n",
      "Run Number: 26\n",
      "Run Number: 27\n",
      "Run Number: 28\n",
      "Run Number: 29\n",
      "Run Number: 30\n",
      "Run Number: 31\n",
      "Run Number: 32\n",
      "Run Number: 33\n",
      "Run Number: 34\n",
      "Run Number: 35\n",
      "Run Number: 36\n",
      "Run Number: 37\n",
      "Run Number: 38\n",
      "Run Number: 39\n",
      "Run Number: 40\n",
      "Run Number: 41\n",
      "Run Number: 42\n",
      "Run Number: 43\n",
      "Run Number: 44\n",
      "Run Number: 45\n",
      "Run Number: 46\n",
      "Run Number: 47\n",
      "Run Number: 48\n",
      "Run Number: 49\n"
     ]
    }
   ],
   "source": [
    "mean_errors = np.zeros(50)\n",
    "\n",
    "for x in range(50):\n",
    "    model = regression_model()\n",
    "    results = model.fit(predictors, target, validation_split=0.3, epochs=50, verbose=0)\n",
    "    mean_errors[x] = results.history['val_loss'][-1]\n",
    "    print(\"Run Number:\", x)"
   ]
  },
  {
   "cell_type": "code",
   "execution_count": 15,
   "id": "64ca8d75-153a-461f-bcaa-d5e5044e7528",
   "metadata": {},
   "outputs": [
    {
     "name": "stdout",
     "output_type": "stream",
     "text": [
      "The mean of the mean squared errors is: 506.68839601411787\n",
      "The standard deviation of the mean squared errors is: 484.4251867469845\n"
     ]
    }
   ],
   "source": [
    "print(\"The mean of the mean squared errors is:\", \n",
    "      mean_errors.mean())\n",
    "print(\"The standard deviation of the mean squared errors is:\", \n",
    "      mean_errors.std())"
   ]
  },
  {
   "cell_type": "markdown",
   "id": "489bf02a-7336-4d0e-8fda-dd5e453b1f71",
   "metadata": {},
   "source": [
    "<h3>Part B</h3> \n",
    "\n",
    "Now we repeat Part A but with the normalized data instead."
   ]
  },
  {
   "cell_type": "code",
   "execution_count": 16,
   "id": "0d2a5496-431a-43b4-8506-c21a5ab7d5b7",
   "metadata": {},
   "outputs": [
    {
     "name": "stdout",
     "output_type": "stream",
     "text": [
      "Run Number: 0\n",
      "Run Number: 1\n",
      "Run Number: 2\n",
      "Run Number: 3\n",
      "Run Number: 4\n",
      "Run Number: 5\n",
      "Run Number: 6\n",
      "Run Number: 7\n",
      "Run Number: 8\n",
      "Run Number: 9\n",
      "Run Number: 10\n",
      "Run Number: 11\n",
      "Run Number: 12\n",
      "Run Number: 13\n",
      "Run Number: 14\n",
      "Run Number: 15\n",
      "Run Number: 16\n",
      "Run Number: 17\n",
      "Run Number: 18\n",
      "Run Number: 19\n",
      "Run Number: 20\n",
      "Run Number: 21\n",
      "Run Number: 22\n",
      "Run Number: 23\n",
      "Run Number: 24\n",
      "Run Number: 25\n",
      "Run Number: 26\n",
      "Run Number: 27\n",
      "Run Number: 28\n",
      "Run Number: 29\n",
      "Run Number: 30\n",
      "Run Number: 31\n",
      "Run Number: 32\n",
      "Run Number: 33\n",
      "Run Number: 34\n",
      "Run Number: 35\n",
      "Run Number: 36\n",
      "Run Number: 37\n",
      "Run Number: 38\n",
      "Run Number: 39\n",
      "Run Number: 40\n",
      "Run Number: 41\n",
      "Run Number: 42\n",
      "Run Number: 43\n",
      "Run Number: 44\n",
      "Run Number: 45\n",
      "Run Number: 46\n",
      "Run Number: 47\n",
      "Run Number: 48\n",
      "Run Number: 49\n"
     ]
    }
   ],
   "source": [
    "mean_errors_normed = np.zeros(50)\n",
    "\n",
    "for x in range(50):\n",
    "    model = regression_model()\n",
    "    results = model.fit(predictors_norm, target, validation_split=0.3, epochs=50, verbose=0)\n",
    "    mean_errors_normed[x] = results.history['val_loss'][-1]\n",
    "    print(\"Run Number:\", x)"
   ]
  },
  {
   "cell_type": "code",
   "execution_count": 20,
   "id": "43e9370c-4b11-461d-be26-9f61674d1e7b",
   "metadata": {},
   "outputs": [
    {
     "name": "stdout",
     "output_type": "stream",
     "text": [
      "The mean of the mean squared errors, with normalization, is: 369.3625798256884\n",
      "The standard deviation of the mean squared errors, with normalization, is: 92.12537895670323\n",
      "Clearly both have decreased compared to Part A.\n"
     ]
    }
   ],
   "source": [
    "print(\"The mean of the mean squared errors, with normalization, is:\",\n",
    "      mean_errors_normed.mean())\n",
    "print(\"The standard deviation of the mean squared errors, with normalization, is:\", \n",
    "      mean_errors_normed.std())\n",
    "print(\"Clearly both have decreased compared to Part A.\")"
   ]
  },
  {
   "cell_type": "markdown",
   "id": "e225dcfd-623f-47d1-ac8f-6e03ee59a4fb",
   "metadata": {},
   "source": [
    "<h3>Part C</h3> \n",
    "\n",
    "Now we repeat Part B but with 100 epochs instead."
   ]
  },
  {
   "cell_type": "code",
   "execution_count": 18,
   "id": "7e0c0ad0-6dfc-4ad9-8748-36772472cd5f",
   "metadata": {},
   "outputs": [
    {
     "name": "stdout",
     "output_type": "stream",
     "text": [
      "Run Number: 0\n",
      "Run Number: 1\n",
      "Run Number: 2\n",
      "Run Number: 3\n",
      "Run Number: 4\n",
      "Run Number: 5\n",
      "Run Number: 6\n",
      "Run Number: 7\n",
      "Run Number: 8\n",
      "Run Number: 9\n",
      "Run Number: 10\n",
      "Run Number: 11\n",
      "Run Number: 12\n",
      "Run Number: 13\n",
      "Run Number: 14\n",
      "Run Number: 15\n",
      "Run Number: 16\n",
      "Run Number: 17\n",
      "Run Number: 18\n",
      "Run Number: 19\n",
      "Run Number: 20\n",
      "Run Number: 21\n",
      "Run Number: 22\n",
      "Run Number: 23\n",
      "Run Number: 24\n",
      "Run Number: 25\n",
      "Run Number: 26\n",
      "Run Number: 27\n",
      "Run Number: 28\n",
      "Run Number: 29\n",
      "Run Number: 30\n",
      "Run Number: 31\n",
      "Run Number: 32\n",
      "Run Number: 33\n",
      "Run Number: 34\n",
      "Run Number: 35\n",
      "Run Number: 36\n",
      "Run Number: 37\n",
      "Run Number: 38\n",
      "Run Number: 39\n",
      "Run Number: 40\n",
      "Run Number: 41\n",
      "Run Number: 42\n",
      "Run Number: 43\n",
      "Run Number: 44\n",
      "Run Number: 45\n",
      "Run Number: 46\n",
      "Run Number: 47\n",
      "Run Number: 48\n",
      "Run Number: 49\n"
     ]
    }
   ],
   "source": [
    "mean_errors_normed_100 = np.zeros(50)\n",
    "\n",
    "for x in range(50):\n",
    "    model = regression_model()\n",
    "    results = model.fit(predictors_norm, target, validation_split=0.3, epochs=100, verbose=0)\n",
    "    mean_errors_normed_100[x] = results.history['val_loss'][-1]\n",
    "    print(\"Run Number:\", x)"
   ]
  },
  {
   "cell_type": "code",
   "execution_count": 21,
   "id": "4ad2326b-a81c-4891-933a-b3b1baedd894",
   "metadata": {},
   "outputs": [
    {
     "name": "stdout",
     "output_type": "stream",
     "text": [
      "The mean of the mean squared errors, with normalization and 100 epochs, is: 185.0299294876049\n",
      "The standard deviation of the mean squared errors, with normalization and 100 epochs, is: 38.95524106971021\n",
      "Clearly both have decreased compared to Part B.\n"
     ]
    }
   ],
   "source": [
    "print(\"The mean of the mean squared errors, with normalization and 100 epochs, is:\", \n",
    "      mean_errors_normed_100.mean())\n",
    "print(\"The standard deviation of the mean squared errors, with normalization and 100 epochs, is:\", \n",
    "      mean_errors_normed_100.std())\n",
    "print(\"Clearly both have decreased compared to Part B.\")"
   ]
  },
  {
   "cell_type": "markdown",
   "id": "a20b050f-7447-4374-8df9-f16a3ba043ea",
   "metadata": {},
   "source": [
    "<h3>Part D</h3> \n",
    "\n",
    "Now we rebuild our regression model to have 3 hidden layers, each of 10 nodes and ReLU activation function."
   ]
  },
  {
   "cell_type": "code",
   "execution_count": 22,
   "id": "3a047027-2c7e-492d-849f-2c95a09d9049",
   "metadata": {},
   "outputs": [],
   "source": [
    "# define regression model\n",
    "def regression_model_2():\n",
    "    # create model\n",
    "    model = Sequential()\n",
    "    model.add(Dense(10, activation='relu', input_shape=(n_cols,)))\n",
    "    model.add(Dense(10, activation='relu'))\n",
    "    model.add(Dense(10, activation='relu'))\n",
    "    model.add(Dense(1))\n",
    "    \n",
    "    # compile model\n",
    "    model.compile(optimizer='adam', loss='mean_squared_error')\n",
    "    return model"
   ]
  },
  {
   "cell_type": "markdown",
   "id": "dc1cc1d3-4b80-4513-a582-77a100f7599e",
   "metadata": {},
   "source": [
    "Now we repeat Part B but with this deeper model instead."
   ]
  },
  {
   "cell_type": "code",
   "execution_count": 23,
   "id": "3fd61575-dc14-42e1-b72a-9e74dd2bc271",
   "metadata": {},
   "outputs": [
    {
     "name": "stdout",
     "output_type": "stream",
     "text": [
      "Run Number: 0\n",
      "Run Number: 1\n",
      "Run Number: 2\n",
      "Run Number: 3\n",
      "Run Number: 4\n",
      "Run Number: 5\n",
      "Run Number: 6\n",
      "Run Number: 7\n",
      "Run Number: 8\n",
      "Run Number: 9\n",
      "Run Number: 10\n",
      "Run Number: 11\n",
      "Run Number: 12\n",
      "Run Number: 13\n",
      "Run Number: 14\n",
      "Run Number: 15\n",
      "Run Number: 16\n",
      "Run Number: 17\n",
      "Run Number: 18\n",
      "Run Number: 19\n",
      "Run Number: 20\n",
      "Run Number: 21\n",
      "Run Number: 22\n",
      "Run Number: 23\n",
      "Run Number: 24\n",
      "Run Number: 25\n",
      "Run Number: 26\n",
      "Run Number: 27\n",
      "Run Number: 28\n",
      "Run Number: 29\n",
      "Run Number: 30\n",
      "Run Number: 31\n",
      "Run Number: 32\n",
      "Run Number: 33\n",
      "Run Number: 34\n",
      "Run Number: 35\n",
      "Run Number: 36\n",
      "Run Number: 37\n",
      "Run Number: 38\n",
      "Run Number: 39\n",
      "Run Number: 40\n",
      "Run Number: 41\n",
      "Run Number: 42\n",
      "Run Number: 43\n",
      "Run Number: 44\n",
      "Run Number: 45\n",
      "Run Number: 46\n",
      "Run Number: 47\n",
      "Run Number: 48\n",
      "Run Number: 49\n"
     ]
    }
   ],
   "source": [
    "mean_errors_deeper = np.zeros(50)\n",
    "\n",
    "for x in range(50):\n",
    "    model = regression_model_2()\n",
    "    results = model.fit(predictors_norm, target, validation_split=0.3, epochs=50, verbose=0)\n",
    "    mean_errors_deeper[x] = results.history['val_loss'][-1]\n",
    "    print(\"Run Number:\", x)"
   ]
  },
  {
   "cell_type": "code",
   "execution_count": 24,
   "id": "334ca58b-0c4f-435a-b0e2-0c38ec1e9f0b",
   "metadata": {},
   "outputs": [
    {
     "name": "stdout",
     "output_type": "stream",
     "text": [
      "The mean of the mean squared errors, with 3 hidden layers, is: 143.30192322271157\n",
      "The standard deviation of the mean squared errors, with 3 hidden layers, is: 20.089202139581598\n",
      "Clearly both have decreased compared to Part B.\n"
     ]
    }
   ],
   "source": [
    "print(\"The mean of the mean squared errors, with 3 hidden layers, is:\", \n",
    "      mean_errors_deeper.mean())\n",
    "print(\"The standard deviation of the mean squared errors, with 3 hidden layers, is:\", \n",
    "      mean_errors_deeper.std())\n",
    "print(\"Clearly both have decreased compared to Part B.\")"
   ]
  },
  {
   "cell_type": "code",
   "execution_count": null,
   "id": "90e2a12a-5cf3-4fee-8d1d-ba33848e6b73",
   "metadata": {},
   "outputs": [],
   "source": []
  }
 ],
 "metadata": {
  "kernelspec": {
   "display_name": "Python",
   "language": "python",
   "name": "conda-env-python-py"
  },
  "language_info": {
   "codemirror_mode": {
    "name": "ipython",
    "version": 3
   },
   "file_extension": ".py",
   "mimetype": "text/x-python",
   "name": "python",
   "nbconvert_exporter": "python",
   "pygments_lexer": "ipython3",
   "version": "3.7.10"
  }
 },
 "nbformat": 4,
 "nbformat_minor": 5
}
